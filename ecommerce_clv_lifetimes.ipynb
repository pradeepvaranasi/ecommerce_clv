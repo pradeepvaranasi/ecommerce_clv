{
  "nbformat": 4,
  "nbformat_minor": 0,
  "metadata": {
    "colab": {
      "provenance": [],
      "authorship_tag": "ABX9TyPrRGWJxwm7V/3fjSGLcFoS",
      "include_colab_link": true
    },
    "kernelspec": {
      "name": "python3",
      "display_name": "Python 3"
    },
    "language_info": {
      "name": "python"
    }
  },
  "cells": [
    {
      "cell_type": "markdown",
      "metadata": {
        "id": "view-in-github",
        "colab_type": "text"
      },
      "source": [
        "<a href=\"https://colab.research.google.com/github/pradeepvaranasi/ecommerce_clv/blob/main/ecommerce_clv_lifetimes.ipynb\" target=\"_parent\"><img src=\"https://colab.research.google.com/assets/colab-badge.svg\" alt=\"Open In Colab\"/></a>"
      ]
    },
    {
      "cell_type": "markdown",
      "source": [
        "\n",
        "For this exercise, we’re going to predict future purchasing from a history of customer transactions.\n",
        "\n",
        "Data represents approximately 50,000 transactions from an ecommerce store that sells widgets\n",
        "\n"
      ],
      "metadata": {
        "id": "fG8N3ON5wFza"
      }
    },
    {
      "cell_type": "code",
      "source": [],
      "metadata": {
        "id": "Gak4eI0owEGM"
      },
      "execution_count": null,
      "outputs": []
    }
  ]
}